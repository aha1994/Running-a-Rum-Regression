{
 "cells": [
  {
   "cell_type": "code",
   "execution_count": 63,
   "id": "3378e02d-8615-471f-98e8-2afd6ce3fb8f",
   "metadata": {},
   "outputs": [],
   "source": [
    "# import dependencies\n",
    "import requests\n",
    "from bs4 import BeautifulSoup\n",
    "import pandas as pd\n",
    "import numpy as np\n",
    "import re"
   ]
  },
  {
   "cell_type": "code",
   "execution_count": 64,
   "id": "7ef12c5d-5e6f-45dd-86a6-3bf2a880a8b4",
   "metadata": {},
   "outputs": [],
   "source": [
    "# getting the links and names of all rums currently in the data set\n",
    "# ids = []\n",
    "# links = []\n",
    "# names = []\n",
    "\n",
    "# for i in range(1, 16749):\n",
    "#     url = f'https://www.rum-x.com/rums/{i}'\n",
    "#     page = requests.get(url)\n",
    "    \n",
    "#     if page.status_code == 200:\n",
    "#         content = page.content\n",
    "#         soup = BeautifulSoup(content, features='lxml')\n",
    "        \n",
    "#         ids.append(i)\n",
    "#         links.append(soup.link.get(\"href\"))\n",
    "#         names.append(soup.link.get(\"href\").split('/')[-1])\n",
    "    \n",
    "#     else:\n",
    "#         ids.append(i)\n",
    "#         links.append(np.nan)\n",
    "#         names.append(np.nan)\n",
    "\n",
    "# rumDF = pd.DataFrame({\n",
    "#     'ID': ids,\n",
    "#     'Link': links,\n",
    "#     'Name': names\n",
    "# })\n",
    "\n",
    "# rumDF.to_csv('rum.csv', index=False)"
   ]
  },
  {
   "cell_type": "code",
   "execution_count": 65,
   "id": "d5ac0570-5d31-4ab6-b6ff-bc563e3218e4",
   "metadata": {},
   "outputs": [
    {
     "data": {
      "text/plain": [
       "526"
      ]
     },
     "execution_count": 65,
     "metadata": {},
     "output_type": "execute_result"
    }
   ],
   "source": [
    "sum(pd.isna(rumDF['Link']))"
   ]
  },
  {
   "cell_type": "code",
   "execution_count": null,
   "id": "a6624698-6e76-4224-a742-9baa8fd72df3",
   "metadata": {},
   "outputs": [],
   "source": []
  }
 ],
 "metadata": {
  "kernelspec": {
   "display_name": "Python 3 (ipykernel)",
   "language": "python",
   "name": "python3"
  },
  "language_info": {
   "codemirror_mode": {
    "name": "ipython",
    "version": 3
   },
   "file_extension": ".py",
   "mimetype": "text/x-python",
   "name": "python",
   "nbconvert_exporter": "python",
   "pygments_lexer": "ipython3",
   "version": "3.8.8"
  }
 },
 "nbformat": 4,
 "nbformat_minor": 5
}
